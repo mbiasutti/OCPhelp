{
 "cells": [
  {
   "cell_type": "markdown",
   "metadata": {},
   "source": [
    "Example of how to use xgcm"
   ]
  },
  {
   "cell_type": "code",
   "execution_count": 3,
   "metadata": {},
   "outputs": [
    {
     "name": "stdout",
     "output_type": "stream",
     "text": [
      "Collecting git+https://github.com/xgcm/xgcm.git\n",
      "  Cloning https://github.com/xgcm/xgcm.git to /tmp/pip-2dyivz91-build\n",
      "Requirement already satisfied: xarray in /home/home2/biasutti/miniconda3/envs/pangeo/lib/python3.6/site-packages (from xgcm==0.1.0)\n",
      "Requirement already satisfied: dask in /home/home2/biasutti/miniconda3/envs/pangeo/lib/python3.6/site-packages (from xgcm==0.1.0)\n",
      "Requirement already satisfied: numpy in /home/home2/biasutti/miniconda3/envs/pangeo/lib/python3.6/site-packages (from xgcm==0.1.0)\n",
      "Collecting future (from xgcm==0.1.0)\n",
      "Collecting docrep (from xgcm==0.1.0)\n",
      "Requirement already satisfied: pandas>=0.18.0 in /home/home2/biasutti/miniconda3/envs/pangeo/lib/python3.6/site-packages (from xarray->xgcm==0.1.0)\n",
      "Requirement already satisfied: six in /home/home2/biasutti/miniconda3/envs/pangeo/lib/python3.6/site-packages (from docrep->xgcm==0.1.0)\n",
      "Requirement already satisfied: python-dateutil>=2 in /home/home2/biasutti/miniconda3/envs/pangeo/lib/python3.6/site-packages (from pandas>=0.18.0->xarray->xgcm==0.1.0)\n",
      "Requirement already satisfied: pytz>=2011k in /home/home2/biasutti/miniconda3/envs/pangeo/lib/python3.6/site-packages (from pandas>=0.18.0->xarray->xgcm==0.1.0)\n",
      "Installing collected packages: future, docrep, xgcm\n",
      "  Running setup.py install for xgcm ... \u001b[?25ldone\n",
      "\u001b[?25hSuccessfully installed docrep-0.2.3 future-0.16.0 xgcm-0.1.0\n",
      "\u001b[33mYou are using pip version 9.0.3, however version 10.0.1 is available.\n",
      "You should consider upgrading via the 'pip install --upgrade pip' command.\u001b[0m\n"
     ]
    }
   ],
   "source": [
    "!pip install git+https://github.com/xgcm/xgcm.git"
   ]
  },
  {
   "cell_type": "code",
   "execution_count": 4,
   "metadata": {},
   "outputs": [],
   "source": [
    "import xarray as xr\n",
    "import numpy as np\n",
    "import xgcm\n",
    "from matplotlib import pyplot as plt\n",
    "%matplotlib inline\n",
    "plt.rcParams['figure.figsize'] = (10,6)"
   ]
  },
  {
   "cell_type": "code",
   "execution_count": 5,
   "metadata": {},
   "outputs": [
    {
     "name": "stdout",
     "output_type": "stream",
     "text": [
      "--2018-05-02 14:32:40--  http://www.ldeo.columbia.edu/~rpa/mitgcm_example_dataset.nc\n",
      "Resolving www.ldeo.columbia.edu... 129.236.14.15\n",
      "Connecting to www.ldeo.columbia.edu|129.236.14.15|:80... connected.\n",
      "HTTP request sent, awaiting response... 200 OK\n",
      "Length: 20396931 (19M) [application/x-netcdf]\n",
      "Saving to: ‘mitgcm_example_dataset.nc’\n",
      "\n",
      "mitgcm_example_data 100%[===================>]  19.45M   108MB/s    in 0.2s    \n",
      "\n",
      "2018-05-02 14:32:40 (108 MB/s) - ‘mitgcm_example_dataset.nc’ saved [20396931/20396931]\n",
      "\n"
     ]
    }
   ],
   "source": [
    "!wget http://www.ldeo.columbia.edu/~rpa/mitgcm_example_dataset.nc"
   ]
  },
  {
   "cell_type": "code",
   "execution_count": 11,
   "metadata": {},
   "outputs": [],
   "source": [
    "ds = xr.open_dataset('mitgcm_example_dataset.nc')"
   ]
  },
  {
   "cell_type": "code",
   "execution_count": 12,
   "metadata": {},
   "outputs": [
    {
     "data": {
      "text/plain": [
       "<xarray.Dataset>\n",
       "Dimensions:               (XC: 90, XG: 90, YC: 40, YG: 40, Z: 15, Zl: 15, Zp1: 16, Zu: 15, layer_1RHO_bounds: 31, layer_1RHO_center: 30, layer_1RHO_interface: 29, time: 1)\n",
       "Coordinates:\n",
       "    iter                  (time) int64 ...\n",
       "  * time                  (time) timedelta64[ns] 11:00:00\n",
       "  * XC                    (XC) float32 2.0 6.0 10.0 14.0 18.0 22.0 26.0 30.0 ...\n",
       "  * YC                    (YC) float32 -78.0 -74.0 -70.0 -66.0 -62.0 -58.0 ...\n",
       "  * XG                    (XG) float32 0.0 4.0 8.0 12.0 16.0 20.0 24.0 28.0 ...\n",
       "  * YG                    (YG) float32 -80.0 -76.0 -72.0 -68.0 -64.0 -60.0 ...\n",
       "  * Z                     (Z) float32 -25.0 -85.0 -170.0 -290.0 -455.0 ...\n",
       "  * Zp1                   (Zp1) float32 0.0 -50.0 -120.0 -220.0 -360.0 ...\n",
       "  * Zu                    (Zu) float32 -50.0 -120.0 -220.0 -360.0 -550.0 ...\n",
       "  * Zl                    (Zl) float32 0.0 -50.0 -120.0 -220.0 -360.0 -550.0 ...\n",
       "    rA                    (YC, XC) float32 ...\n",
       "    dxG                   (YG, XC) float32 ...\n",
       "    dyG                   (YC, XG) float32 ...\n",
       "    Depth                 (YC, XC) float32 ...\n",
       "    rAz                   (YG, XG) float32 ...\n",
       "    dxC                   (YC, XG) float32 ...\n",
       "    dyC                   (YG, XC) float32 ...\n",
       "    rAw                   (YC, XG) float32 ...\n",
       "    rAs                   (YG, XC) float32 ...\n",
       "    drC                   (Zp1) float32 ...\n",
       "    drF                   (Z) float32 ...\n",
       "    PHrefC                (Z) float32 ...\n",
       "    PHrefF                (Zp1) float32 ...\n",
       "    hFacC                 (Z, YC, XC) float32 ...\n",
       "    hFacW                 (Z, YC, XG) float32 ...\n",
       "    hFacS                 (Z, YG, XC) float32 ...\n",
       "  * layer_1RHO_bounds     (layer_1RHO_bounds) float32 19.9499 20.4499 ...\n",
       "  * layer_1RHO_center     (layer_1RHO_center) float32 20.1999 20.6922 ...\n",
       "  * layer_1RHO_interface  (layer_1RHO_interface) float32 20.4499 20.934498 ...\n",
       "Data variables:\n",
       "    Ttave                 (time, Z, YC, XC) float32 ...\n",
       "    UStave                (time, Z, YC, XG) float32 ...\n",
       "    wVeltave              (time, Zl, YC, XC) float32 ...\n",
       "    VTtave                (time, Z, YG, XC) float32 ...\n",
       "    VVtave                (time, Z, YG, XC) float32 ...\n",
       "    V                     (time, Z, YG, XC) float32 ...\n",
       "    VStave                (time, Z, YG, XC) float32 ...\n",
       "    PHL                   (time, YC, XC) float32 ...\n",
       "    TFLUX                 (time, YC, XC) float32 ...\n",
       "    surForcT              (time, YC, XC) float32 ...\n",
       "    SFLUX                 (time, YC, XC) float32 ...\n",
       "    surForcS              (time, YC, XC) float32 ...\n",
       "    vVeltave              (time, Z, YG, XC) float32 ...\n",
       "    GM_Kwz-T              (time, Zl, YC, XC) float32 ...\n",
       "    W                     (time, Zl, YC, XC) float32 ...\n",
       "    uVeltave              (time, Z, YC, XG) float32 ...\n",
       "    TOTSTEND              (time, Z, YC, XC) float32 ...\n",
       "    ADVr_SLT              (time, Zl, YC, XC) float32 ...\n",
       "    ADVx_SLT              (time, Z, YC, XG) float32 ...\n",
       "    ADVy_SLT              (time, Z, YG, XC) float32 ...\n",
       "    DFrE_SLT              (time, Zl, YC, XC) float32 ...\n",
       "    DFxE_SLT              (time, Z, YC, XG) float32 ...\n",
       "    DFyE_SLT              (time, Z, YG, XC) float32 ...\n",
       "    DFrI_SLT              (time, Zl, YC, XC) float32 ...\n",
       "    USLTMASS              (time, Z, YC, XG) float32 ...\n",
       "    VSLTMASS              (time, Z, YG, XC) float32 ...\n",
       "    WSLTMASS              (time, Zl, YC, XC) float32 ...\n",
       "    tFluxtave             (time, YC, XC) float32 ...\n",
       "    LaTs1RHO              (time, layer_1RHO_interface, YC, XC) float32 ...\n",
       "    LaTh1RHO              (time, layer_1RHO_interface, YC, XC) float32 ...\n",
       "    LaTz1RHO              (time, layer_1RHO_interface, YC, XC) float32 ...\n",
       "    LTha1RHO              (time, layer_1RHO_interface, YC, XC) float32 ...\n",
       "    LTza1RHO              (time, layer_1RHO_interface, YC, XC) float32 ...\n",
       "    LaSs1RHO              (time, layer_1RHO_interface, YC, XC) float32 ...\n",
       "    LaSh1RHO              (time, layer_1RHO_interface, YC, XC) float32 ...\n",
       "    LaSz1RHO              (time, layer_1RHO_interface, YC, XC) float32 ...\n",
       "    LSha1RHO              (time, layer_1RHO_interface, YC, XC) float32 ...\n",
       "    LSza1RHO              (time, layer_1RHO_interface, YC, XC) float32 ...\n",
       "    LTto1RHO              (time, layer_1RHO_interface, YC, XC) float32 ...\n",
       "    LSto1RHO              (time, layer_1RHO_interface, YC, XC) float32 ...\n",
       "    WTtave                (time, Zl, YC, XC) float32 ...\n",
       "    LaUH1RHO              (time, layer_1RHO_center, YC, XG) float32 ...\n",
       "    LaHw1RHO              (time, layer_1RHO_center, YC, XG) float32 ...\n",
       "    LaPw1RHO              (time, layer_1RHO_center, YC, XG) float32 ...\n",
       "    LaVH1RHO              (time, layer_1RHO_center, YG, XC) float32 ...\n",
       "    LaHs1RHO              (time, layer_1RHO_center, YG, XC) float32 ...\n",
       "    LaPs1RHO              (time, layer_1RHO_center, YG, XC) float32 ...\n",
       "    U                     (time, Z, YC, XG) float32 ...\n",
       "    Convtave              (time, Zl, YC, XC) float32 ...\n",
       "    sFluxtave             (time, YC, XC) float32 ...\n",
       "    PHLtave               (time, YC, XC) float32 ...\n",
       "    GM_Kwy-T              (time, Zl, YC, XC) float32 ...\n",
       "    uFluxtave             (time, YC, XG) float32 ...\n",
       "    GM_Kwx-T              (time, Zl, YC, XC) float32 ...\n",
       "    WStave                (time, Zl, YC, XC) float32 ...\n",
       "    S                     (time, Z, YC, XC) float32 ...\n",
       "    UUtave                (time, Z, YC, XG) float32 ...\n",
       "    TTtave                (time, Z, YC, XC) float32 ...\n",
       "    UTtave                (time, Z, YC, XG) float32 ...\n",
       "    Eta2tave              (time, YC, XC) float32 ...\n",
       "    Stave                 (time, Z, YC, XC) float32 ...\n",
       "    PhHytave              (time, Z, YC, XC) float32 ...\n",
       "    ETAtave               (time, YC, XC) float32 ...\n",
       "    UVEL                  (time, Z, YC, XG) float32 ...\n",
       "    VVEL                  (time, Z, YG, XC) float32 ...\n",
       "    WVEL                  (time, Zl, YC, XC) float32 ...\n",
       "    THETA                 (time, Z, YC, XC) float32 ...\n",
       "    SALT                  (time, Z, YC, XC) float32 ...\n",
       "    PHL2tave              (time, YC, XC) float32 ...\n",
       "    T                     (time, Z, YC, XC) float32 ...\n",
       "    Eta                   (time, YC, XC) float32 ...\n",
       "    UVtave                (time, Z, YG, XG) float32 ...\n",
       "    Tdiftave              (time, Zl, YC, XC) float32 ...\n",
       "    vFluxtave             (time, YG, XC) float32 ...\n",
       "    PH                    (time, Z, YC, XC) float32 ...\n",
       "    TOTTTEND              (time, Z, YC, XC) float32 ...\n",
       "    ADVr_TH               (time, Zl, YC, XC) float32 ...\n",
       "    ADVx_TH               (time, Z, YC, XG) float32 ...\n",
       "    ADVy_TH               (time, Z, YG, XC) float32 ...\n",
       "    DFrE_TH               (time, Zl, YC, XC) float32 ...\n",
       "    DFxE_TH               (time, Z, YC, XG) float32 ...\n",
       "    DFyE_TH               (time, Z, YG, XC) float32 ...\n",
       "    DFrI_TH               (time, Zl, YC, XC) float32 ...\n",
       "    UTHMASS               (time, Z, YC, XG) float32 ...\n",
       "    VTHMASS               (time, Z, YG, XC) float32 ...\n",
       "    WTHMASS               (time, Zl, YC, XC) float32 ...\n",
       "Attributes:\n",
       "    Conventions:  CF-1.6\n",
       "    title:        netCDF wrapper of MITgcm MDS binary data\n",
       "    source:       MITgcm\n",
       "    history:      Created by calling `open_mdsdataset(llc_method='smallchunks..."
      ]
     },
     "execution_count": 12,
     "metadata": {},
     "output_type": "execute_result"
    }
   ],
   "source": [
    "ds"
   ]
  },
  {
   "cell_type": "code",
   "execution_count": 13,
   "metadata": {},
   "outputs": [
    {
     "data": {
      "text/plain": [
       "<xarray.DataArray 'Eta' (time: 1, YC: 40, XC: 90)>\n",
       "array([[[ 0.      ,  0.      , ...,  0.      ,  0.      ],\n",
       "        [ 0.      ,  0.      , ...,  0.      ,  0.      ],\n",
       "        ...,\n",
       "        [-0.702411, -0.694586, ..., -0.694789, -0.709546],\n",
       "        [-0.656158, -0.659816, ..., -0.623395, -0.649   ]]], dtype=float32)\n",
       "Coordinates:\n",
       "    iter     (time) int64 ...\n",
       "  * time     (time) timedelta64[ns] 11:00:00\n",
       "  * XC       (XC) float32 2.0 6.0 10.0 14.0 18.0 22.0 26.0 30.0 34.0 38.0 ...\n",
       "  * YC       (YC) float32 -78.0 -74.0 -70.0 -66.0 -62.0 -58.0 -54.0 -50.0 ...\n",
       "    rA       (YC, XC) float32 ...\n",
       "    Depth    (YC, XC) float32 ...\n",
       "Attributes:\n",
       "    standard_name:  ETAN\n",
       "    long_name:      Surface Height Anomaly\n",
       "    units:          m"
      ]
     },
     "execution_count": 13,
     "metadata": {},
     "output_type": "execute_result"
    }
   ],
   "source": [
    "ds.Eta\n"
   ]
  },
  {
   "cell_type": "code",
   "execution_count": 15,
   "metadata": {},
   "outputs": [
    {
     "data": {
      "text/plain": [
       "<matplotlib.contour.QuadContourSet at 0x7f91c7861438>"
      ]
     },
     "execution_count": 15,
     "metadata": {},
     "output_type": "execute_result"
    },
    {
     "data": {
      "image/png": "[encoded data removed]",
      "text/plain": [
       "<Figure size 432x288 with 2 Axes>"
      ]
     },
     "metadata": {},
     "output_type": "display_data"
    }
   ],
   "source": [
    "ds.Eta[0].plot.contourf(levels = 30)"
   ]
  },
  {
   "cell_type": "code",
   "execution_count": 16,
   "metadata": {},
   "outputs": [],
   "source": [
    "surf_mask_c = ds.hFacC[0] >0"
   ]
  },
  {
   "cell_type": "code",
   "execution_count": 17,
   "metadata": {},
   "outputs": [
    {
     "data": {
      "text/plain": [
       "<matplotlib.contour.QuadContourSet at 0x7f91c777d978>"
      ]
     },
     "execution_count": 17,
     "metadata": {},
     "output_type": "execute_result"
    },
    {
     "data": {
      "image/png": "[encoded data removed]",
      "text/plain": [
       "<Figure size 432x288 with 2 Axes>"
      ]
     },
     "metadata": {},
     "output_type": "display_data"
    }
   ],
   "source": [
    "ds.Eta[0].where(surf_mask_c).plot.contourf(levels = 30)"
   ]
  },
  {
   "cell_type": "code",
   "execution_count": 19,
   "metadata": {},
   "outputs": [
    {
     "data": {
      "text/plain": [
       "\u001b[0;31mInit signature:\u001b[0m \u001b[0mxgcm\u001b[0m\u001b[0;34m.\u001b[0m\u001b[0mGrid\u001b[0m\u001b[0;34m(\u001b[0m\u001b[0mds\u001b[0m\u001b[0;34m,\u001b[0m \u001b[0mcheck_dims\u001b[0m\u001b[0;34m=\u001b[0m\u001b[0;32mTrue\u001b[0m\u001b[0;34m,\u001b[0m \u001b[0mperiodic\u001b[0m\u001b[0;34m=\u001b[0m\u001b[0;32mTrue\u001b[0m\u001b[0;34m,\u001b[0m \u001b[0mdefault_shifts\u001b[0m\u001b[0;34m=\u001b[0m\u001b[0;34m{\u001b[0m\u001b[0;34m}\u001b[0m\u001b[0;34m,\u001b[0m \u001b[0mface_connections\u001b[0m\u001b[0;34m=\u001b[0m\u001b[0;32mNone\u001b[0m\u001b[0;34m,\u001b[0m \u001b[0mcoords\u001b[0m\u001b[0;34m=\u001b[0m\u001b[0;32mNone\u001b[0m\u001b[0;34m)\u001b[0m\u001b[0;34m\u001b[0m\u001b[0m\n",
       "\u001b[0;31mDocstring:\u001b[0m     \n",
       "An object with multiple :class:`xgcm.Axis` objects representing different\n",
       "independent axes.\n",
       "\u001b[0;31mInit docstring:\u001b[0m\n",
       "Create a new Grid object from an input dataset.\n",
       "\n",
       "Parameters\n",
       "----------\n",
       "ds : xarray.Dataset\n",
       "    Contains the relevant grid information. Coordinate attributes\n",
       "    should conform to Comodo conventions [1]_.\n",
       "check_dims : bool, optional\n",
       "    Whether to check the compatibility of input data dimensions before\n",
       "    performing grid operations.\n",
       "periodic : {True, False, list}\n",
       "    Whether the grid is periodic (i.e. \"wrap-around\"). If a list is\n",
       "    specified (e.g. ``['X', 'Y']``), the axis names in the list will be\n",
       "    be periodic and any other axes founds will be assumed non-periodic.\n",
       "default_shifts : dict\n",
       "    A dictionary of dictionaries specifying default grid position\n",
       "    shifts (e.g. ``{'X': {'center': 'left', 'left': 'center'}}``)\n",
       "face_connections : dict\n",
       "    Grid topology\n",
       "coords : dict, optional\n",
       "    Excplicit specification of axis coordinates, e.g\n",
       "    ``{'X': {'center': 'XC', 'left: 'XG'}}``.\n",
       "    Each key should be the name of an axis. The value should be\n",
       "    a dictionary mapping positions (e.g. ``'left'``) to names of\n",
       "    coordinates in ``ds``.\n",
       "\n",
       "REFERENCES\n",
       "----------\n",
       ".. [1] Comodo Conventions http://pycomodo.forge.imag.fr/norm.html\n",
       "\u001b[0;31mFile:\u001b[0m           ~/miniconda3/envs/pangeo/lib/python3.6/site-packages/xgcm/grid.py\n",
       "\u001b[0;31mType:\u001b[0m           type\n"
      ]
     },
     "metadata": {},
     "output_type": "display_data"
    }
   ],
   "source": [
    "xgcm.Grid?"
   ]
  },
  {
   "cell_type": "code",
   "execution_count": 20,
   "metadata": {},
   "outputs": [
    {
     "data": {
      "text/plain": [
       "<xgcm.Grid>\n",
       "1RHO Axis (not periodic):\n",
       "  * center   layer_1RHO_center (30) --> outer\n",
       "  * outer    layer_1RHO_bounds (31) --> center\n",
       "  * inner    layer_1RHO_interface (29) --> center\n",
       "T Axis (not periodic):\n",
       "  * center   time (1)\n",
       "X Axis (periodic):\n",
       "  * center   XC (90) --> left\n",
       "  * left     XG (90) --> center\n",
       "Y Axis (periodic):\n",
       "  * center   YC (40) --> left\n",
       "  * left     YG (40) --> center\n",
       "Z Axis (not periodic):\n",
       "  * center   Z (15) --> left\n",
       "  * left     Zl (15) --> center\n",
       "  * outer    Zp1 (16) --> center\n",
       "  * right    Zu (15) --> center"
      ]
     },
     "execution_count": 20,
     "metadata": {},
     "output_type": "execute_result"
    }
   ],
   "source": [
    "grid = xgcm.Grid(ds,periodic = ['X','Y'])\n",
    "grid"
   ]
  },
  {
   "cell_type": "code",
   "execution_count": 21,
   "metadata": {},
   "outputs": [
    {
     "data": {
      "text/plain": [
       "\u001b[0;31mSignature:\u001b[0m \u001b[0mgrid\u001b[0m\u001b[0;34m.\u001b[0m\u001b[0minterp\u001b[0m\u001b[0;34m(\u001b[0m\u001b[0mda\u001b[0m\u001b[0;34m,\u001b[0m \u001b[0maxis\u001b[0m\u001b[0;34m,\u001b[0m \u001b[0;34m**\u001b[0m\u001b[0mkwargs\u001b[0m\u001b[0;34m)\u001b[0m\u001b[0;34m\u001b[0m\u001b[0m\n",
       "\u001b[0;31mDocstring:\u001b[0m\n",
       "Interpolate neighboring points to the intermediate grid point along\n",
       "this axis.\n",
       "\n",
       "Parameters\n",
       "----------\n",
       "axis : str\n",
       "    Name of the axis on which ot act\n",
       "da : xarray.DataArray\n",
       "    The data on which to operate\n",
       "to : {'center', 'left', 'right', 'inner', 'outer'}\n",
       "    The direction in which to shift the array. If not specified,\n",
       "    default will be used.\n",
       "boundary : {None, 'fill', 'extend'}\n",
       "    A flag indicating how to handle boundaries:\n",
       "\n",
       "    * None:  Do not apply any boundary conditions. Raise an error if\n",
       "      boundary conditions are required for the operation.\n",
       "    * 'fill':  Set values outside the array boundary to fill_value\n",
       "      (i.e. a Neumann boundary condition.)\n",
       "    * 'extend': Set values outside the array to the nearest array\n",
       "      value. (i.e. a limited form of Dirichlet boundary condition.)\n",
       "\n",
       "Returns\n",
       "-------\n",
       "da_i : xarray.DataArray\n",
       "    The interpolated data\n",
       "\u001b[0;31mFile:\u001b[0m      ~/miniconda3/envs/pangeo/lib/python3.6/site-packages/xgcm/grid.py\n",
       "\u001b[0;31mType:\u001b[0m      method\n"
      ]
     },
     "metadata": {},
     "output_type": "display_data"
    }
   ],
   "source": [
    "grid.interp?"
   ]
  },
  {
   "cell_type": "code",
   "execution_count": 22,
   "metadata": {},
   "outputs": [
    {
     "data": {
      "text/plain": [
       "<xarray.DataArray 'THETA' (time: 1, Z: 15, YC: 40, XC: 90)>\n",
       "array([[[[ 0.      , ...,  0.      ],\n",
       "         ...,\n",
       "         [ 0.010286, ..., -0.237801]],\n",
       "\n",
       "        ...,\n",
       "\n",
       "        [[ 0.      , ...,  0.      ],\n",
       "         ...,\n",
       "         [ 0.      , ...,  0.      ]]]], dtype=float32)\n",
       "Coordinates:\n",
       "    iter     (time) int64 ...\n",
       "  * time     (time) timedelta64[ns] 11:00:00\n",
       "  * XC       (XC) float32 2.0 6.0 10.0 14.0 18.0 22.0 26.0 30.0 34.0 38.0 ...\n",
       "  * YC       (YC) float32 -78.0 -74.0 -70.0 -66.0 -62.0 -58.0 -54.0 -50.0 ...\n",
       "  * Z        (Z) float32 -25.0 -85.0 -170.0 -290.0 -455.0 -670.0 -935.0 ...\n",
       "    rA       (YC, XC) float32 ...\n",
       "    Depth    (YC, XC) float32 ...\n",
       "    drF      (Z) float32 ...\n",
       "    PHrefC   (Z) float32 ...\n",
       "    hFacC    (Z, YC, XC) float32 ...\n",
       "Attributes:\n",
       "    standard_name:  THETA\n",
       "    long_name:      Potential Temperature\n",
       "    units:          degC"
      ]
     },
     "execution_count": 22,
     "metadata": {},
     "output_type": "execute_result"
    }
   ],
   "source": [
    "ds.THETA"
   ]
  },
  {
   "cell_type": "code",
   "execution_count": 25,
   "metadata": {},
   "outputs": [
    {
     "data": {
      "text/plain": [
       "('time', 'Z', 'YC', 'XC')"
      ]
     },
     "execution_count": 25,
     "metadata": {},
     "output_type": "execute_result"
    }
   ],
   "source": [
    "ds.THETA.dims\n"
   ]
  },
  {
   "cell_type": "code",
   "execution_count": 26,
   "metadata": {},
   "outputs": [],
   "source": [
    "theta_x_interp = grid.interp(ds.THETA,'X')"
   ]
  },
  {
   "cell_type": "code",
   "execution_count": 28,
   "metadata": {},
   "outputs": [
    {
     "data": {
      "text/plain": [
       "('time', 'Z', 'YC', 'XG')"
      ]
     },
     "execution_count": 28,
     "metadata": {},
     "output_type": "execute_result"
    }
   ],
   "source": [
    "theta_x_interp.dims"
   ]
  },
  {
   "cell_type": "code",
   "execution_count": 24,
   "metadata": {},
   "outputs": [
    {
     "data": {
      "text/plain": [
       "<xarray.DataArray (time: 1, Z: 15, YC: 40, XG: 90)>\n",
       "array([[[[ 0.      , ...,  0.      ],\n",
       "         ...,\n",
       "         [-0.113758, ..., -0.320469]],\n",
       "\n",
       "        ...,\n",
       "\n",
       "        [[ 0.      , ...,  0.      ],\n",
       "         ...,\n",
       "         [ 0.      , ...,  0.      ]]]], dtype=float32)\n",
       "Coordinates:\n",
       "  * time     (time) timedelta64[ns] 11:00:00\n",
       "  * Z        (Z) float32 -25.0 -85.0 -170.0 -290.0 -455.0 -670.0 -935.0 ...\n",
       "  * YC       (YC) float32 -78.0 -74.0 -70.0 -66.0 -62.0 -58.0 -54.0 -50.0 ...\n",
       "  * XG       (XG) float32 0.0 4.0 8.0 12.0 16.0 20.0 24.0 28.0 32.0 36.0 ..."
      ]
     },
     "execution_count": 24,
     "metadata": {},
     "output_type": "execute_result"
    }
   ],
   "source": [
    "grid.interp(ds.THETA,'X')"
   ]
  },
  {
   "cell_type": "code",
   "execution_count": 31,
   "metadata": {},
   "outputs": [],
   "source": [
    "theta_z_interp = grid.interp(ds.THETA,'Z',boundary = 'fill')"
   ]
  },
  {
   "cell_type": "code",
   "execution_count": 32,
   "metadata": {},
   "outputs": [
    {
     "data": {
      "text/plain": [
       "<xarray.DataArray (time: 1, Zl: 15, YC: 40, XC: 90)>\n",
       "array([[[[ 0.      , ...,  0.      ],\n",
       "         ...,\n",
       "         [ 0.005143, ..., -0.118901]],\n",
       "\n",
       "        ...,\n",
       "\n",
       "        [[ 0.      , ...,  0.      ],\n",
       "         ...,\n",
       "         [ 0.      , ...,  0.      ]]]], dtype=float32)\n",
       "Coordinates:\n",
       "  * time     (time) timedelta64[ns] 11:00:00\n",
       "  * Zl       (Zl) float32 0.0 -50.0 -120.0 -220.0 -360.0 -550.0 -790.0 ...\n",
       "  * YC       (YC) float32 -78.0 -74.0 -70.0 -66.0 -62.0 -58.0 -54.0 -50.0 ...\n",
       "  * XC       (XC) float32 2.0 6.0 10.0 14.0 18.0 22.0 26.0 30.0 34.0 38.0 ..."
      ]
     },
     "execution_count": 32,
     "metadata": {},
     "output_type": "execute_result"
    }
   ],
   "source": [
    "theta_z_interp"
   ]
  },
  {
   "cell_type": "code",
   "execution_count": 34,
   "metadata": {},
   "outputs": [
    {
     "data": {
      "text/plain": [
       "[<matplotlib.lines.Line2D at 0x7f91c75f5d30>]"
      ]
     },
     "execution_count": 34,
     "metadata": {},
     "output_type": "execute_result"
    },
    {
     "data": {
      "image/png": "[encoded data removed]",
      "text/plain": [
       "<Figure size 432x288 with 1 Axes>"
      ]
     },
     "metadata": {},
     "output_type": "display_data"
    }
   ],
   "source": [
    "ds.THETA.sel(XC = 200,YC = 45, method = 'nearest').plot()\n"
   ]
  },
  {
   "cell_type": "code",
   "execution_count": 40,
   "metadata": {},
   "outputs": [
    {
     "data": {
      "text/plain": [
       "[<matplotlib.lines.Line2D at 0x7f91c710e278>]"
      ]
     },
     "execution_count": 40,
     "metadata": {},
     "output_type": "execute_result"
    },
    {
     "data": {
      "image/png": "[encoded data removed]",
      "text/plain": [
       "<Figure size 432x288 with 1 Axes>"
      ]
     },
     "metadata": {},
     "output_type": "display_data"
    }
   ],
   "source": [
    "ds.THETA.sel(XC = 200,YC = 45, method = 'nearest').plot.line(y = 'Z',marker = '.')\n",
    "theta_z_interp.sel(XC = 200,YC = 45, method = 'nearest').plot.line(y = 'Zl',marker = '.')"
   ]
  },
  {
   "cell_type": "code",
   "execution_count": 41,
   "metadata": {},
   "outputs": [],
   "source": [
    "theta_z_interp = grid.interp(ds.THETA,'Z',boundary = 'extend')"
   ]
  },
  {
   "cell_type": "code",
   "execution_count": 44,
   "metadata": {},
   "outputs": [
    {
     "data": {
      "text/plain": [
       "<matplotlib.legend.Legend at 0x7f91c6fb64e0>"
      ]
     },
     "execution_count": 44,
     "metadata": {},
     "output_type": "execute_result"
    },
    {
     "data": {
      "image/png": "[encoded data removed]",
      "text/plain": [
       "<Figure size 432x288 with 1 Axes>"
      ]
     },
     "metadata": {},
     "output_type": "display_data"
    }
   ],
   "source": [
    "ds.THETA.sel(XC = 200,YC = 45, method = 'nearest').plot.line(y = 'Z',marker = '.',\n",
    "                                                            label = 'original')\n",
    "theta_z_interp.sel(XC = 200,YC = 45, method = 'nearest').plot.line(y = 'Zl',marker = '.',\n",
    "                                                                  label = 'interpolated')\n",
    "plt.ylim([-500, 0])\n",
    "plt.legend(loc = 'lower left')"
   ]
  },
  {
   "cell_type": "code",
   "execution_count": null,
   "metadata": {},
   "outputs": [],
   "source": []
  }
 ],
 "metadata": {
  "kernelspec": {
   "display_name": "Python 3",
   "language": "python",
   "name": "python3"
  },
  "language_info": {
   "codemirror_mode": {
    "name": "ipython",
    "version": 3
   },
   "file_extension": ".py",
   "mimetype": "text/x-python",
   "name": "python",
   "nbconvert_exporter": "python",
   "pygments_lexer": "ipython3",
   "version": "3.6.5"
  }
 },
 "nbformat": 4,
 "nbformat_minor": 2
}
