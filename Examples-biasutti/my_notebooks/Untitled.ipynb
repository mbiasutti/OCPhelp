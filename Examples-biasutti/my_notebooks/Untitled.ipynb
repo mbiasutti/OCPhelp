{
 "cells": [
  {
   "cell_type": "code",
   "execution_count": 1,
   "metadata": {},
   "outputs": [],
   "source": [
    "%matplotlib inline\n",
    "import matplotlib.pyplot as plt\n",
    "import cartopy.crs as ccrs\n",
    "import numpy as np\n",
    "import xarray as xr\n",
    "import xesmf as xe\n"
   ]
  },
  {
   "cell_type": "code",
   "execution_count": 2,
   "metadata": {},
   "outputs": [
    {
     "data": {
      "text/plain": [
       "<xarray.Dataset>\n",
       "Dimensions:  (lat: 25, lon: 53, time: 2920)\n",
       "Coordinates:\n",
       "  * lat      (lat) float32 75.0 72.5 70.0 67.5 65.0 62.5 60.0 57.5 55.0 52.5 ...\n",
       "  * lon      (lon) float32 200.0 202.5 205.0 207.5 210.0 212.5 215.0 217.5 ...\n",
       "  * time     (time) datetime64[ns] 2013-01-01 2013-01-01T06:00:00 ...\n",
       "Data variables:\n",
       "    air      (time, lat, lon) float32 241.2 242.5 243.5 244.0 244.09999 ...\n",
       "Attributes:\n",
       "    Conventions:  COARDS\n",
       "    title:        4x daily NMC reanalysis (1948)\n",
       "    description:  Data is from NMC initialized reanalysis\\n(4x/day).  These a...\n",
       "    platform:     Model\n",
       "    references:   http://www.esrl.noaa.gov/psd/data/gridded/data.ncep.reanaly..."
      ]
     },
     "execution_count": 2,
     "metadata": {},
     "output_type": "execute_result"
    }
   ],
   "source": [
    "ds = xr.tutorial.load_dataset('air_temperature')\n",
    "ds"
   ]
  },
  {
   "cell_type": "code",
   "execution_count": 3,
   "metadata": {},
   "outputs": [],
   "source": [
    "dr = ds['air']  # get a DataArray\n"
   ]
  },
  {
   "cell_type": "code",
   "execution_count": 4,
   "metadata": {},
   "outputs": [
    {
     "data": {
      "text/plain": [
       "<xarray.Dataset>\n",
       "Dimensions:  (lat: 241, lon: 261)\n",
       "Coordinates:\n",
       "  * lat      (lat) float64 15.0 15.25 15.5 15.75 16.0 16.25 16.5 16.75 17.0 ...\n",
       "  * lon      (lon) float64 200.0 200.5 201.0 201.5 202.0 202.5 203.0 203.5 ...\n",
       "Data variables:\n",
       "    *empty*"
      ]
     },
     "execution_count": 4,
     "metadata": {},
     "output_type": "execute_result"
    }
   ],
   "source": [
    "ds_out = xr.Dataset({'lat': (['lat'], np.arange(15, 75.01, 0.25)),\n",
    "                     'lon': (['lon'], np.arange(200, 330.01, 0.5)),\n",
    "                    }\n",
    "                   )\n",
    "ds_out"
   ]
  },
  {
   "cell_type": "code",
   "execution_count": 5,
   "metadata": {},
   "outputs": [
    {
     "name": "stdout",
     "output_type": "stream",
     "text": [
      "Create weight file: bilinear_25x53_241x261.nc\n"
     ]
    },
    {
     "data": {
      "text/plain": [
       "xESMF Regridder \n",
       "Regridding algorithm:       bilinear \n",
       "Weight filename:            bilinear_25x53_241x261.nc \n",
       "Reuse pre-computed weights? False \n",
       "Input grid shape:           (25, 53) \n",
       "Output grid shape:          (241, 261) \n",
       "Output grid dimension name: ('lat', 'lon') \n",
       "Periodic in longitude?      False"
      ]
     },
     "execution_count": 5,
     "metadata": {},
     "output_type": "execute_result"
    }
   ],
   "source": [
    "regridder = xe.Regridder(ds, ds_out, 'bilinear')\n",
    "regridder  # print basic regridder information."
   ]
  },
  {
   "cell_type": "code",
   "execution_count": 6,
   "metadata": {},
   "outputs": [
    {
     "data": {
      "text/plain": [
       "<xarray.DataArray 'air' (time: 2920, lat: 241, lon: 261)>\n",
       "array([[[296.290009,   0.      , ...,   0.      , 296.600006],\n",
       "        [296.250998, 296.347393, ..., 296.509332, 296.459972],\n",
       "        ...,\n",
       "        [241.460055, 241.710289, ..., 238.032368, 238.670007],\n",
       "        [241.199997, 241.462202, ..., 237.980352, 238.599991]],\n",
       "\n",
       "       [[296.290009,   0.      , ...,   0.      , 296.600006],\n",
       "        [296.281004, 296.454976, ..., 296.423191, 296.449972],\n",
       "        ...,\n",
       "        [242.250025, 242.369355, ..., 235.329647, 235.789986],\n",
       "        [242.099991, 242.221303, ..., 235.359659, 235.799988]],\n",
       "\n",
       "       ...,\n",
       "\n",
       "       [[297.790009,   0.      , ...,   0.      , 295.190002],\n",
       "        [297.639974, 297.767266, ..., 295.17863 , 295.109982],\n",
       "        ...,\n",
       "        [246.200088, 246.011764, ..., 244.559329, 244.739982],\n",
       "        [245.789993, 245.593612, ..., 244.629357, 244.789993]],\n",
       "\n",
       "       [[297.690002,   0.      , ...,   0.      , 295.690002],\n",
       "        [297.529965, 297.619326, ..., 295.740449, 295.639991],\n",
       "        ...,\n",
       "        [245.570106, 245.418372, ..., 241.697689, 241.77999 ],\n",
       "        [245.089996, 244.934197, ..., 241.729704, 241.789993]]])\n",
       "Coordinates:\n",
       "  * lon      (lon) float64 200.0 200.5 201.0 201.5 202.0 202.5 203.0 203.5 ...\n",
       "  * lat      (lat) float64 15.0 15.25 15.5 15.75 16.0 16.25 16.5 16.75 17.0 ...\n",
       "  * time     (time) datetime64[ns] 2013-01-01 2013-01-01T06:00:00 ...\n",
       "Attributes:\n",
       "    regrid_method:  bilinear"
      ]
     },
     "execution_count": 6,
     "metadata": {},
     "output_type": "execute_result"
    }
   ],
   "source": [
    "dr_out = regridder(dr)\n",
    "dr_out"
   ]
  },
  {
   "cell_type": "code",
   "execution_count": null,
   "metadata": {},
   "outputs": [],
   "source": []
  }
 ],
 "metadata": {
  "kernelspec": {
   "display_name": "pangeo v2",
   "language": "python",
   "name": "pangeo_safe"
  },
  "language_info": {
   "codemirror_mode": {
    "name": "ipython",
    "version": 3
   },
   "file_extension": ".py",
   "mimetype": "text/x-python",
   "name": "python",
   "nbconvert_exporter": "python",
   "pygments_lexer": "ipython3",
   "version": "3.6.5"
  }
 },
 "nbformat": 4,
 "nbformat_minor": 2
}
