{
 "cells": [
  {
   "cell_type": "markdown",
   "metadata": {},
   "source": [
    "# Details about Time Series handling and Indexing and Selecting data in Xarray"
   ]
  },
  {
   "cell_type": "code",
   "execution_count": null,
   "metadata": {},
   "outputs": [],
   "source": [
    "import numpy as np\n",
    "import xarray as xr\n",
    "from matplotlib import pyplot as plt\n",
    "%matplotlib inline\n",
    "import pandas as pd"
   ]
  },
  {
   "cell_type": "markdown",
   "metadata": {},
   "source": [
    "We will work with some data available through the xarray packages (yes the loading has a different syntax, this is valid only for data in the tutorial method)"
   ]
  },
  {
   "cell_type": "code",
   "execution_count": null,
   "metadata": {},
   "outputs": [],
   "source": [
    "# load a sample dataset\n",
    "ds = xr.tutorial.load_dataset('air_temperature')"
   ]
  },
  {
   "cell_type": "code",
   "execution_count": null,
   "metadata": {},
   "outputs": [],
   "source": [
    "ds"
   ]
  },
  {
   "cell_type": "code",
   "execution_count": null,
   "metadata": {},
   "outputs": [],
   "source": [
    "ds.lat"
   ]
  },
  {
   "cell_type": "code",
   "execution_count": null,
   "metadata": {},
   "outputs": [],
   "source": [
    "ds.time[1]"
   ]
  },
  {
   "cell_type": "markdown",
   "metadata": {},
   "source": [
    "# Time series data\n",
    "### important to read here\n",
    "http://xarray.pydata.org/en/stable/time-series.html\n",
    "    "
   ]
  },
  {
   "cell_type": "code",
   "execution_count": null,
   "metadata": {},
   "outputs": [],
   "source": [
    "ds"
   ]
  },
  {
   "cell_type": "code",
   "execution_count": null,
   "metadata": {},
   "outputs": [],
   "source": [
    "ds.time.dt.month"
   ]
  },
  {
   "cell_type": "code",
   "execution_count": null,
   "metadata": {},
   "outputs": [],
   "source": [
    "ds.time.dt.hour"
   ]
  },
  {
   "cell_type": "code",
   "execution_count": null,
   "metadata": {},
   "outputs": [],
   "source": [
    "ds.time.dt.season"
   ]
  },
  {
   "cell_type": "code",
   "execution_count": null,
   "metadata": {},
   "outputs": [],
   "source": [
    "ds.groupby('time.season').mean('time')"
   ]
  },
  {
   "cell_type": "markdown",
   "metadata": {},
   "source": [
    "However, datetime is an instantaneous value, so when certain operations are done on not equally spaced intervals (think about yearly average starting from monthly scale, February months are not long as March) The length of the DELTA interval is not considered. Rather it will correctly match Feb with Feb and so on, but it won't weight February differently .... Same thing when you do a decadal mean and you have leap and not leap years (this is almost never done, but in case your research requires this, have a look at the example below).\n",
    "\n",
    "A rather elaborate example of how to create these weights is here\n",
    "\n",
    "http://xarray.pydata.org/en/stable/examples/monthly-means.html\n",
    "\n",
    "This is essentially in line with doing lat and lon averages...\n"
   ]
  },
  {
   "cell_type": "markdown",
   "metadata": {},
   "source": [
    "# Indexing and selecting"
   ]
  },
  {
   "cell_type": "code",
   "execution_count": null,
   "metadata": {},
   "outputs": [],
   "source": [
    "type(ds)"
   ]
  },
  {
   "cell_type": "code",
   "execution_count": null,
   "metadata": {},
   "outputs": [],
   "source": [
    "ds"
   ]
  },
  {
   "cell_type": "code",
   "execution_count": null,
   "metadata": {},
   "outputs": [],
   "source": [
    "da = ds['air']\n",
    "type(da)"
   ]
  },
  {
   "cell_type": "markdown",
   "metadata": {},
   "source": [
    "Now I have a dataset and a dataarray"
   ]
  },
  {
   "cell_type": "markdown",
   "metadata": {},
   "source": [
    "numpy style indexing still works (but preserves the labels/metadata when we plot it for example) \n",
    "\n",
    "Note how i have to add the \":\" for the first dimension that I am not selecting through. "
   ]
  },
  {
   "cell_type": "code",
   "execution_count": null,
   "metadata": {},
   "outputs": [],
   "source": [
    "\n",
    "da[:, 10, 20].plot()"
   ]
  },
  {
   "cell_type": "markdown",
   "metadata": {},
   "source": [
    "Positional indexing using dimension names - remember it is POSITIONAL, so it won't use longitude equal 20, but the 21th value of longitude\n",
    "\n",
    "isel lookup by integer"
   ]
  },
  {
   "cell_type": "code",
   "execution_count": null,
   "metadata": {},
   "outputs": [],
   "source": [
    "da.lon[20]"
   ]
  },
  {
   "cell_type": "code",
   "execution_count": null,
   "metadata": {},
   "outputs": [],
   "source": [
    "da.isel(lon=20, lat=10 ).plot()\n"
   ]
  },
  {
   "cell_type": "markdown",
   "metadata": {},
   "source": [
    "More interesting is Label-based indexing - you don't need to know the position\n",
    "\n",
    "sel does lookup by label (label can be any datatype, in our case we have datetime64 and lat/lon that are float32)"
   ]
  },
  {
   "cell_type": "code",
   "execution_count": null,
   "metadata": {},
   "outputs": [],
   "source": [
    "type(da.lat.values[0])"
   ]
  },
  {
   "cell_type": "code",
   "execution_count": null,
   "metadata": {},
   "outputs": [],
   "source": [
    "da.sel(lat=50., lon=250.).plot()"
   ]
  },
  {
   "cell_type": "markdown",
   "metadata": {},
   "source": [
    "When you select a point, nearest neighbor is easily done\n",
    "\n",
    "Nearest neighbor lookups"
   ]
  },
  {
   "cell_type": "code",
   "execution_count": null,
   "metadata": {},
   "outputs": [],
   "source": [
    "\n",
    "da.sel(lat=52.25, lon=251.8998, method='nearest').plot()\n"
   ]
  },
  {
   "cell_type": "markdown",
   "metadata": {},
   "source": [
    "Indexing by integer array indices (I use isel)"
   ]
  },
  {
   "cell_type": "code",
   "execution_count": null,
   "metadata": {},
   "outputs": [],
   "source": [
    "print(da.lat[0])\n",
    "print(da.lon[0])\n",
    "print(da.time[0:3])"
   ]
  },
  {
   "cell_type": "markdown",
   "metadata": {},
   "source": [
    "### slice() allows you to - ahem - slice the data. It has a different behavious whether you use it in isel, or sel, inherited from Panads and Numpy"
   ]
  },
  {
   "cell_type": "markdown",
   "metadata": {},
   "source": [
    "In isel() it's not inclusive of the last value (similarly to numpy indexing:\n",
    "\n",
    "array[0:3] \n",
    "\n",
    "won't include the fourth [position 3] value"
   ]
  },
  {
   "cell_type": "code",
   "execution_count": null,
   "metadata": {},
   "outputs": [],
   "source": [
    "print( da.lat[0:2])\n",
    "print( da.lon[0])\n",
    "print( da.time[0:2])"
   ]
  },
  {
   "cell_type": "code",
   "execution_count": null,
   "metadata": {},
   "outputs": [],
   "source": [
    "da.isel(lat=slice(0,2), lon=0, time=slice(0, 2))"
   ]
  },
  {
   "cell_type": "markdown",
   "metadata": {},
   "source": [
    "Using sel, instead, slice it is inclusive"
   ]
  },
  {
   "cell_type": "code",
   "execution_count": null,
   "metadata": {},
   "outputs": [],
   "source": [
    "# index by dimension coordinate labels\n",
    "da.sel(lat=slice(75,71), lon=200, time=slice('2013-01-01', '2013-01-01T06:00:00'))"
   ]
  },
  {
   "cell_type": "markdown",
   "metadata": {},
   "source": [
    "Please note how the slicing along latitude and time included whatever is in between and equal to the start and end of the slicing. \n",
    "\n",
    "Also note, latitude is ordered in the opposite way:"
   ]
  },
  {
   "cell_type": "code",
   "execution_count": null,
   "metadata": {},
   "outputs": [],
   "source": [
    "da.lat"
   ]
  },
  {
   "cell_type": "markdown",
   "metadata": {},
   "source": [
    "Because of this, slicing without taking this into account will give me an empty latitude dimension"
   ]
  },
  {
   "cell_type": "code",
   "execution_count": null,
   "metadata": {},
   "outputs": [],
   "source": [
    "da.sel(lat=slice(71,75), lon=200, time=slice('2013-01-01', '2013-01-01T06:00:00'))"
   ]
  },
  {
   "cell_type": "markdown",
   "metadata": {},
   "source": [
    "Method Nearest doesn't work when slice() is used, however you can always split up the selection if you need to use the method=nearest for one of the dimesnnions"
   ]
  },
  {
   "cell_type": "code",
   "execution_count": null,
   "metadata": {},
   "outputs": [],
   "source": [
    "da.sel(lat=71, lon=199, method='nearest').sel(time=slice('2013-01-01', '2013-01-01T06:00:00'))"
   ]
  },
  {
   "cell_type": "markdown",
   "metadata": {},
   "source": [
    "# Drop\n",
    "\n",
    "it is used usually to drop a variable altogether, it can also be used to drop a dimension\n",
    "\n",
    "it works for both dataset and dataarray"
   ]
  },
  {
   "cell_type": "code",
   "execution_count": null,
   "metadata": {},
   "outputs": [],
   "source": [
    "arr = xr.DataArray(np.random.rand(4, 3),\n",
    "                  [('time', pd.date_range('2000-01-01', periods=4)),\n",
    "                     ('space', ['IA', 'IL', 'IN'])])\n",
    "arr"
   ]
  },
  {
   "cell_type": "code",
   "execution_count": null,
   "metadata": {},
   "outputs": [],
   "source": [
    "arr.drop(['IN', 'IL'], dim='space')"
   ]
  },
  {
   "cell_type": "code",
   "execution_count": null,
   "metadata": {},
   "outputs": [],
   "source": [
    "dsarr = arr.to_dataset(name='foo')\n",
    "dsarr"
   ]
  },
  {
   "cell_type": "code",
   "execution_count": null,
   "metadata": {},
   "outputs": [],
   "source": [
    "dsarr.drop(['IN', 'IL'], dim='space')"
   ]
  },
  {
   "cell_type": "markdown",
   "metadata": {},
   "source": [
    "# Masking with where\n",
    "\n",
    "As mentioned before, where \"masks\" the data"
   ]
  },
  {
   "cell_type": "code",
   "execution_count": null,
   "metadata": {},
   "outputs": [],
   "source": [
    "ds\n",
    "ds.air.mean(dim=['lat','lon']).plot()"
   ]
  },
  {
   "cell_type": "code",
   "execution_count": null,
   "metadata": {},
   "outputs": [],
   "source": [
    "ds.air.mean(dim=['lat','lon']).plot()\n",
    "ds.air.mean(dim=['lat','lon']).where(ds.time.dt.month==4).plot()\n",
    "\n",
    "#da.sel(lat=75, lon=200, time=slice('2013-01-01', '2013-01-01T06:00:00'))"
   ]
  },
  {
   "cell_type": "code",
   "execution_count": null,
   "metadata": {},
   "outputs": [],
   "source": [
    "dsmeantime = ds.air.mean(dim=['time'])\n",
    "dsmeantime.plot()"
   ]
  },
  {
   "cell_type": "code",
   "execution_count": null,
   "metadata": {},
   "outputs": [],
   "source": [
    "dsmeantime.where(dsmeantime.lat>40).plot()"
   ]
  },
  {
   "cell_type": "code",
   "execution_count": null,
   "metadata": {},
   "outputs": [],
   "source": [
    "dsmeantime.where(dsmeantime.lat>40&dsmeantime.lat<60&dsmeantime.lon>220&dsmeantime.lon<300).plot()"
   ]
  },
  {
   "cell_type": "code",
   "execution_count": null,
   "metadata": {},
   "outputs": [],
   "source": [
    "dsmeantime.where((dsmeantime.lat>40)&(dsmeantime.lat<60)&(dsmeantime.lon>220)&(dsmeantime.lon<300)).plot()"
   ]
  },
  {
   "cell_type": "markdown",
   "metadata": {},
   "source": [
    "# Vectorized indexing\n",
    " you can supply DataArray() objects as indexers. Dimensions on resultant arrays are given by the ordered union of the indexers’ dimensions:"
   ]
  },
  {
   "cell_type": "code",
   "execution_count": null,
   "metadata": {},
   "outputs": [],
   "source": [
    "# generate a coordinates for a transect of points\n",
    "lat_points = xr.DataArray([52, 60, 75], dims='points')\n",
    "lon_points = xr.DataArray([250, 250, 250], dims='points')\n",
    "lat_points"
   ]
  },
  {
   "cell_type": "markdown",
   "metadata": {},
   "source": [
    "nearest neighbor selection along the transect, in this case the order doesn't matter, these are points"
   ]
  },
  {
   "cell_type": "code",
   "execution_count": null,
   "metadata": {},
   "outputs": [],
   "source": [
    "da.sel(lat=lat_points, lon=lon_points, method='nearest')"
   ]
  },
  {
   "cell_type": "markdown",
   "metadata": {},
   "source": [
    "There is much more to this but I am still exploring the pros and cons"
   ]
  },
  {
   "cell_type": "markdown",
   "metadata": {},
   "source": [
    "# Assign values to a dataarray\n",
    "\n",
    "this theme is not well described in the help page, and I will try and update that. In the meanwhile below find some examples"
   ]
  },
  {
   "cell_type": "code",
   "execution_count": null,
   "metadata": {},
   "outputs": [],
   "source": [
    "davi = xr.DataArray(np.arange(12).reshape((3, 4)), dims=['x', 'y'],\n",
    "                coords={'x': [0, 1, 2], 'y': ['a', 'b', 'c', 'd']})\n",
    "\n",
    "davi"
   ]
  },
  {
   "cell_type": "markdown",
   "metadata": {},
   "source": [
    "you can use numpy like assignment"
   ]
  },
  {
   "cell_type": "code",
   "execution_count": null,
   "metadata": {},
   "outputs": [],
   "source": [
    "# davi[0,:,:]= -1\n",
    "davi[0]= -1\n",
    "davi"
   ]
  },
  {
   "cell_type": "code",
   "execution_count": null,
   "metadata": {},
   "outputs": [],
   "source": [
    "davi[0,1]= -2\n",
    "davi"
   ]
  },
  {
   "cell_type": "markdown",
   "metadata": {},
   "source": [
    "But if you want to select an area? and assign a value to it?\n",
    "\n",
    "After some researching I have found that there are two ways to do it.\n",
    "\n",
    "First, let's see what doesn't work:\n",
    "\n",
    "1) using where() "
   ]
  },
  {
   "cell_type": "code",
   "execution_count": null,
   "metadata": {},
   "outputs": [],
   "source": [
    "davi.where((davi.x==2)&(davi.y=='b'))=100\n",
    "davi"
   ]
  },
  {
   "cell_type": "markdown",
   "metadata": {},
   "source": [
    "2) using isel()"
   ]
  },
  {
   "cell_type": "code",
   "execution_count": null,
   "metadata": {},
   "outputs": [],
   "source": [
    "davi.isel(x=0)=100\n",
    "davi"
   ]
  },
  {
   "cell_type": "markdown",
   "metadata": {},
   "source": [
    "3) using sel()"
   ]
  },
  {
   "cell_type": "code",
   "execution_count": null,
   "metadata": {},
   "outputs": [],
   "source": [
    "davi.sel(x=2, y='c') =2000"
   ]
  },
  {
   "cell_type": "markdown",
   "metadata": {},
   "source": [
    "4) in some cases it will fail silently (chain indexing)"
   ]
  },
  {
   "cell_type": "code",
   "execution_count": null,
   "metadata": {},
   "outputs": [],
   "source": [
    "dafs = xr.DataArray([10, 11, 12, 13], dims=['x'])"
   ]
  },
  {
   "cell_type": "code",
   "execution_count": null,
   "metadata": {},
   "outputs": [],
   "source": [
    "dafs.isel(x=[0, 1, 2])"
   ]
  },
  {
   "cell_type": "code",
   "execution_count": null,
   "metadata": {},
   "outputs": [],
   "source": [
    "dafs.isel(x=[0, 1, 2])[1] "
   ]
  },
  {
   "cell_type": "code",
   "execution_count": null,
   "metadata": {},
   "outputs": [],
   "source": [
    "dafs.isel(x=[0, 1, 2])[1] +=1"
   ]
  },
  {
   "cell_type": "markdown",
   "metadata": {},
   "source": [
    "So - what does it work?\n",
    "\n",
    "you have two options, one using loc()+dictionary of the values you want to select and assign values to, or \n",
    "\n",
    "xr.where() - this xr.where() is different from dataarray.where(), http://xarray.pydata.org/en/stable/generated/xarray.where.html"
   ]
  },
  {
   "cell_type": "code",
   "execution_count": null,
   "metadata": {},
   "outputs": [],
   "source": [
    "#add an empty 2D dataarray\n",
    "ds['empty']= xr.full_like(ds.air.mean('time'),fill_value=0)\n",
    "ds"
   ]
  },
  {
   "cell_type": "code",
   "execution_count": null,
   "metadata": {},
   "outputs": [],
   "source": [
    "#modify one grid point, using where() or loc()\n",
    "ds['empty'] = xr.where((ds.coords['lat']==20)&(ds.coords['lon']==260), 100, ds['empty'])\n",
    "ds.empty.plot()"
   ]
  },
  {
   "cell_type": "code",
   "execution_count": null,
   "metadata": {},
   "outputs": [],
   "source": [
    "ds['empty'].loc[dict(lon=260, lat=30)] = 100\n",
    "ds.empty.plot()"
   ]
  },
  {
   "cell_type": "code",
   "execution_count": null,
   "metadata": {},
   "outputs": [],
   "source": [
    "#modify an area with where() and a mask \n",
    "mask = (ds.coords['lat']>20)&(ds.coords['lat']<60)&(ds.coords['lon']>220)&(ds.coords['lon']<260)\n",
    "ds['empty'] = xr.where(mask, 100, ds['empty'])\n",
    "ds.empty.plot()"
   ]
  },
  {
   "cell_type": "code",
   "execution_count": null,
   "metadata": {},
   "outputs": [],
   "source": [
    "#modify an area with loc()\n",
    "lc = ds.coords['lon']\n",
    "la = ds.coords['lat']\n",
    "ds['empty'].loc[dict(lon=lc[(lc>290)&(lc<300)], lat=la[(la>40)&(la<60)])] = 100\n",
    "ds.empty.plot()"
   ]
  }
 ],
 "metadata": {
  "kernelspec": {
   "display_name": "Python 3",
   "language": "python",
   "name": "python3"
  },
  "language_info": {
   "codemirror_mode": {
    "name": "ipython",
    "version": 3
   },
   "file_extension": ".py",
   "mimetype": "text/x-python",
   "name": "python",
   "nbconvert_exporter": "python",
   "pygments_lexer": "ipython3",
   "version": "3.6.5"
  }
 },
 "nbformat": 4,
 "nbformat_minor": 2
}
