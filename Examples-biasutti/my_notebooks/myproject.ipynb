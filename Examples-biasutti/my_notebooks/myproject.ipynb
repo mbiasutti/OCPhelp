{
 "cells": [
  {
   "cell_type": "markdown",
   "metadata": {},
   "source": [
    "Test project:  co-occurrence of rain"
   ]
  },
  {
   "cell_type": "code",
   "execution_count": 288,
   "metadata": {},
   "outputs": [],
   "source": [
    "import xarray as xr\n",
    "import numpy as np\n",
    "import pandas as pd\n",
    "from matplotlib import pyplot as plt\n",
    "%matplotlib inline\n",
    "plt.rcParams['figure.figsize'] = (10,6)\n"
   ]
  },
  {
   "cell_type": "code",
   "execution_count": 289,
   "metadata": {},
   "outputs": [],
   "source": [
    "# import scipy.io as sio\n",
    "# sio.loadmat('/home2/biasutti/datasets/servir/TRMM_2_pd_JS',mdict = 'TRMM',appendmat=True)  ##not working for  V7.3 files\n",
    "import h5py\n",
    "\n",
    "filepath = '/home2/biasutti/datasets/servir/TRMM_2_pd_JS.mat'\n",
    "arrays = {}\n",
    "f = h5py.File(filepath)\n",
    "for k, v in f.items():\n",
    "    arrays[k] = np.array(v)"
   ]
  },
  {
   "cell_type": "code",
   "execution_count": 290,
   "metadata": {},
   "outputs": [
    {
     "data": {
      "text/plain": [
       "dict_keys(['latd', 'lond', 'pd'])"
      ]
     },
     "execution_count": 290,
     "metadata": {},
     "output_type": "execute_result"
    }
   ],
   "source": [
    "arrays.keys()"
   ]
  },
  {
   "cell_type": "code",
   "execution_count": 291,
   "metadata": {},
   "outputs": [
    {
     "data": {
      "text/plain": [
       "(92, 17, 69, 168)"
      ]
     },
     "execution_count": 291,
     "metadata": {},
     "output_type": "execute_result"
    }
   ],
   "source": [
    "pr = np.reshape(arrays['pd'],(92,17,69,168))\n",
    "pr.shape  # just a numpy array"
   ]
  },
  {
   "cell_type": "code",
   "execution_count": 292,
   "metadata": {},
   "outputs": [],
   "source": [
    "lon = arrays['lond'].squeeze()\n",
    "lat = arrays['latd'].squeeze()"
   ]
  },
  {
   "cell_type": "code",
   "execution_count": 293,
   "metadata": {},
   "outputs": [
    {
     "name": "stderr",
     "output_type": "stream",
     "text": [
      "/home2/biasutti/miniconda3/envs/pangeo/lib/python3.6/site-packages/ipykernel_launcher.py:11: RuntimeWarning: invalid value encountered in greater_equal\n",
      "  # This is added back by InteractiveShellApp.init_path()\n",
      "/home2/biasutti/miniconda3/envs/pangeo/lib/python3.6/site-packages/ipykernel_launcher.py:16: RuntimeWarning: Mean of empty slice\n",
      "  app.launch_new_instance()\n"
     ]
    }
   ],
   "source": [
    "delta = 4\n",
    "cooccurrence = np.ones([len(lat),len(lon)])*np.nan\n",
    "for i in range(delta,len(lat)-delta-1):\n",
    "    for j in range(delta,len(lon)-delta-1):\n",
    "        caz = np.ones([17,1])*np.nan\n",
    "        for year in range(0,16):\n",
    "            in1 = (pr[:,year,i,j]>=1)*1;  # boolean * 1 is integer\n",
    "            if in1.sum()<10:\n",
    "                caz[year] = np.nan\n",
    "            else:\n",
    "                in2 = (pr[:,year,i-delta:i+delta+1,j-delta:j+delta+1]>=1)*1\n",
    "                in1 = np.tile(in1[:,np.newaxis,np.newaxis],[1,2*delta+1,2*delta+1])\n",
    "                tmp = np.equal(in1,in2)*1\n",
    "                caz[year]=np.nansum(tmp)/92/(2*delta+1)/(2*delta+1)\n",
    "                #print(caz)\n",
    "        cooccurrence[i,j] = np.nanmean(caz)\n",
    "        "
   ]
  },
  {
   "cell_type": "code",
   "execution_count": 233,
   "metadata": {},
   "outputs": [
    {
     "data": {
      "text/plain": [
       "<matplotlib.colorbar.Colorbar at 0x7ff1aef47eb8>"
      ]
     },
     "execution_count": 233,
     "metadata": {},
     "output_type": "execute_result"
    },
    {
     "data": {
      "image/png": "[encoded data removed]",
      "text/plain": [
       "<Figure size 720x432 with 2 Axes>"
      ]
     },
     "metadata": {},
     "output_type": "display_data"
    }
   ],
   "source": [
    "cooccurrence.shape\n",
    "plt.contourf(lon,lat,cooccurrence)\n",
    "plt.colorbar()"
   ]
  },
  {
   "cell_type": "code",
   "execution_count": 294,
   "metadata": {},
   "outputs": [
    {
     "data": {
      "text/plain": [
       "(92,)"
      ]
     },
     "execution_count": 294,
     "metadata": {},
     "output_type": "execute_result"
    }
   ],
   "source": [
    "dates = pd.date_range(start='2000-07-01', end='2000-09-30', freq='D')\n",
    "#dates = np.array([range(P.shape[0])]).squeeze()\n",
    "type(dates)\n",
    "dates.shape\n"
   ]
  },
  {
   "cell_type": "code",
   "execution_count": 295,
   "metadata": {},
   "outputs": [
    {
     "data": {
      "text/plain": [
       "[1998,\n",
       " 1999,\n",
       " 2000,\n",
       " 2001,\n",
       " 2002,\n",
       " 2003,\n",
       " 2004,\n",
       " 2005,\n",
       " 2006,\n",
       " 2007,\n",
       " 2008,\n",
       " 2009,\n",
       " 2010,\n",
       " 2011,\n",
       " 2012,\n",
       " 2013,\n",
       " 2014]"
      ]
     },
     "execution_count": 295,
     "metadata": {},
     "output_type": "execute_result"
    }
   ],
   "source": [
    "list(range(1998,2015))"
   ]
  },
  {
   "cell_type": "code",
   "execution_count": 296,
   "metadata": {},
   "outputs": [],
   "source": [
    "da_trmm = xr.DataArray(pr, dims=['day','year','lat', 'lon'],\n",
    "                           coords={'year':list(range(1998,2015)),'day':dates,'lat': lat,\n",
    "                                   'lon':lon })"
   ]
  },
  {
   "cell_type": "code",
   "execution_count": 297,
   "metadata": {},
   "outputs": [
    {
     "data": {
      "text/plain": [
       "<xarray.DataArray (year: 17, lat: 69, lon: 168)>\n",
       "array([[[6.722249e+01, 6.136499e+01, ..., 6.609592e+02, 5.893559e+02],\n",
       "        [1.098450e+02, 1.107600e+02, ..., 7.154809e+02, 6.699799e+02],\n",
       "        ...,\n",
       "        [3.562500e+01, 3.605249e+01, ..., 3.752113e+01, 1.550373e+01],\n",
       "        [3.014249e+01, 3.318749e+01, ..., 1.892600e+01, 1.963338e+01]],\n",
       "\n",
       "       [[6.869249e+01, 7.732498e+01, ..., 5.644694e+02, 5.683331e+02],\n",
       "        [6.540749e+01, 9.324748e+01, ..., 4.976997e+02, 5.048589e+02],\n",
       "        ...,\n",
       "        [2.087250e+01, 2.142749e+01, ..., 4.173612e+01, 5.163450e+01],\n",
       "        [1.199250e+01, 1.400250e+01, ..., 6.591978e+01, 8.653503e+01]],\n",
       "\n",
       "       ...,\n",
       "\n",
       "       [[1.261200e+02, 1.537500e+02, ..., 4.147260e+02, 4.575573e+02],\n",
       "        [1.706250e+02, 1.821150e+02, ..., 3.728120e+02, 3.893444e+02],\n",
       "        ...,\n",
       "        [5.984999e+00, 5.392499e+00, ..., 2.757217e+01, 2.662488e+01],\n",
       "        [8.339998e+00, 4.657499e+00, ..., 1.201678e+01, 1.087174e+01]],\n",
       "\n",
       "       [[1.964925e+02, 1.949250e+02, ..., 5.830284e+02, 5.226435e+02],\n",
       "        [1.790625e+02, 1.849200e+02, ..., 5.583936e+02, 5.499101e+02],\n",
       "        ...,\n",
       "        [6.637499e+00, 1.062750e+01, ..., 5.608065e+00, 8.905767e+00],\n",
       "        [8.797499e+00, 1.509750e+01, ..., 2.067578e-01, 7.383225e-01]]],\n",
       "      dtype=float32)\n",
       "Coordinates:\n",
       "  * year     (year) int64 1998 1999 2000 2001 2002 2003 2004 2005 2006 2007 ...\n",
       "  * lat      (lat) float32 3.0 3.25 3.5 3.75 4.0 4.25 4.5 4.75 5.0 5.25 5.5 ...\n",
       "  * lon      (lon) float32 -18.0 -17.75 -17.5 -17.25 -17.0 -16.75 -16.5 ..."
      ]
     },
     "execution_count": 297,
     "metadata": {},
     "output_type": "execute_result"
    }
   ],
   "source": [
    "field = da_trmm.sum(dim = 'day')\n",
    "field"
   ]
  },
  {
   "cell_type": "code",
   "execution_count": null,
   "metadata": {},
   "outputs": [],
   "source": [
    "def match_neighbors(field, deltax=4, deltay=4):\n",
    "    \"\"\" checks how well a time series at one gridpoint matches the neighboring ones. It assumes (time,y,x) \"\"\"\n",
    "    \n",
    "    field_exy = np.concatenate([field[:,-deltay:-1,:]*np.nan, field, field[:,0:deltay-1,:]*np.nan],axis = 1)\n",
    "    field_extend = np.concatenate([field_exy[:,:,-deltax:-1]*np.nan, field_exy, field_exy[:,:,0:deltax-1]*np.nan],axis = 2)\n",
    "    "
   ]
  },
  {
   "cell_type": "code",
   "execution_count": 302,
   "metadata": {},
   "outputs": [
    {
     "data": {
      "text/plain": [
       "4"
      ]
     },
     "execution_count": 302,
     "metadata": {},
     "output_type": "execute_result"
    }
   ],
   "source": [
    "deltay = 4; deltax = 4;\n",
    "np.concatenate"
   ]
  },
  {
   "cell_type": "code",
   "execution_count": 303,
   "metadata": {},
   "outputs": [],
   "source": [
    "field_exy = np.concatenate([field[:,-deltay:-1,:]*np.nan, field, field[:,0:deltay-1,:]*np.nan],axis = 1)\n",
    "field_extend = np.concatenate([field_exy[:,:,-deltax:-1]*np.nan, field_exy, field_exy[:,:,0:deltax-1]*np.nan],axis = 2)"
   ]
  },
  {
   "cell_type": "code",
   "execution_count": 304,
   "metadata": {},
   "outputs": [
    {
     "data": {
      "text/plain": [
       "array([[[nan, nan, nan, ..., nan, nan, nan],\n",
       "        [nan, nan, nan, ..., nan, nan, nan],\n",
       "        [nan, nan, nan, ..., nan, nan, nan],\n",
       "        ...,\n",
       "        [nan, nan, nan, ..., nan, nan, nan],\n",
       "        [nan, nan, nan, ..., nan, nan, nan],\n",
       "        [nan, nan, nan, ..., nan, nan, nan]],\n",
       "\n",
       "       [[nan, nan, nan, ..., nan, nan, nan],\n",
       "        [nan, nan, nan, ..., nan, nan, nan],\n",
       "        [nan, nan, nan, ..., nan, nan, nan],\n",
       "        ...,\n",
       "        [nan, nan, nan, ..., nan, nan, nan],\n",
       "        [nan, nan, nan, ..., nan, nan, nan],\n",
       "        [nan, nan, nan, ..., nan, nan, nan]],\n",
       "\n",
       "       [[nan, nan, nan, ..., nan, nan, nan],\n",
       "        [nan, nan, nan, ..., nan, nan, nan],\n",
       "        [nan, nan, nan, ..., nan, nan, nan],\n",
       "        ...,\n",
       "        [nan, nan, nan, ..., nan, nan, nan],\n",
       "        [nan, nan, nan, ..., nan, nan, nan],\n",
       "        [nan, nan, nan, ..., nan, nan, nan]],\n",
       "\n",
       "       ...,\n",
       "\n",
       "       [[nan, nan, nan, ..., nan, nan, nan],\n",
       "        [nan, nan, nan, ..., nan, nan, nan],\n",
       "        [nan, nan, nan, ..., nan, nan, nan],\n",
       "        ...,\n",
       "        [nan, nan, nan, ..., nan, nan, nan],\n",
       "        [nan, nan, nan, ..., nan, nan, nan],\n",
       "        [nan, nan, nan, ..., nan, nan, nan]],\n",
       "\n",
       "       [[nan, nan, nan, ..., nan, nan, nan],\n",
       "        [nan, nan, nan, ..., nan, nan, nan],\n",
       "        [nan, nan, nan, ..., nan, nan, nan],\n",
       "        ...,\n",
       "        [nan, nan, nan, ..., nan, nan, nan],\n",
       "        [nan, nan, nan, ..., nan, nan, nan],\n",
       "        [nan, nan, nan, ..., nan, nan, nan]],\n",
       "\n",
       "       [[nan, nan, nan, ..., nan, nan, nan],\n",
       "        [nan, nan, nan, ..., nan, nan, nan],\n",
       "        [nan, nan, nan, ..., nan, nan, nan],\n",
       "        ...,\n",
       "        [nan, nan, nan, ..., nan, nan, nan],\n",
       "        [nan, nan, nan, ..., nan, nan, nan],\n",
       "        [nan, nan, nan, ..., nan, nan, nan]]], dtype=float32)"
      ]
     },
     "execution_count": 304,
     "metadata": {},
     "output_type": "execute_result"
    }
   ],
   "source": [
    "field_extend\n"
   ]
  },
  {
   "cell_type": "code",
   "execution_count": 284,
   "metadata": {},
   "outputs": [
    {
     "name": "stdout",
     "output_type": "stream",
     "text": [
      "Object `product` not found.\n"
     ]
    }
   ],
   "source": [
    "product?\n"
   ]
  },
  {
   "cell_type": "code",
   "execution_count": 285,
   "metadata": {},
   "outputs": [
    {
     "data": {
      "text/plain": [
       "\u001b[0;31mInit signature:\u001b[0m \u001b[0mzip\u001b[0m\u001b[0;34m(\u001b[0m\u001b[0mself\u001b[0m\u001b[0;34m,\u001b[0m \u001b[0;34m/\u001b[0m\u001b[0;34m,\u001b[0m \u001b[0;34m*\u001b[0m\u001b[0margs\u001b[0m\u001b[0;34m,\u001b[0m \u001b[0;34m**\u001b[0m\u001b[0mkwargs\u001b[0m\u001b[0;34m)\u001b[0m\u001b[0;34m\u001b[0m\u001b[0m\n",
       "\u001b[0;31mDocstring:\u001b[0m     \n",
       "zip(iter1 [,iter2 [...]]) --> zip object\n",
       "\n",
       "Return a zip object whose .__next__() method returns a tuple where\n",
       "the i-th element comes from the i-th iterable argument.  The .__next__()\n",
       "method continues until the shortest iterable in the argument sequence\n",
       "is exhausted and then it raises StopIteration.\n",
       "\u001b[0;31mType:\u001b[0m           type\n"
      ]
     },
     "metadata": {},
     "output_type": "display_data"
    }
   ],
   "source": [
    "zip?\n"
   ]
  },
  {
   "cell_type": "code",
   "execution_count": 286,
   "metadata": {},
   "outputs": [
    {
     "ename": "NameError",
     "evalue": "name 'product' is not defined",
     "output_type": "error",
     "traceback": [
      "\u001b[0;31m---------------------------------------------------------------------------\u001b[0m",
      "\u001b[0;31mNameError\u001b[0m                                 Traceback (most recent call last)",
      "\u001b[0;32m<ipython-input-286-d7861cd08321>\u001b[0m in \u001b[0;36m<module>\u001b[0;34m()\u001b[0m\n\u001b[0;32m----> 1\u001b[0;31m \u001b[0mproduct\u001b[0m\u001b[0;34m(\u001b[0m\u001b[0mrange\u001b[0m\u001b[0;34m(\u001b[0m\u001b[0;36m5\u001b[0m\u001b[0;34m)\u001b[0m\u001b[0;34m,\u001b[0m\u001b[0mrange\u001b[0m\u001b[0;34m(\u001b[0m\u001b[0;36m7\u001b[0m\u001b[0;34m)\u001b[0m\u001b[0;34m)\u001b[0m\u001b[0;34m\u001b[0m\u001b[0m\n\u001b[0m",
      "\u001b[0;31mNameError\u001b[0m: name 'product' is not defined"
     ]
    }
   ],
   "source": [
    "product(range(5),range(7))"
   ]
  },
  {
   "cell_type": "code",
   "execution_count": null,
   "metadata": {},
   "outputs": [],
   "source": []
  }
 ],
 "metadata": {
  "kernelspec": {
   "display_name": "Python 3",
   "language": "python",
   "name": "python3"
  },
  "language_info": {
   "codemirror_mode": {
    "name": "ipython",
    "version": 3
   },
   "file_extension": ".py",
   "mimetype": "text/x-python",
   "name": "python",
   "nbconvert_exporter": "python",
   "pygments_lexer": "ipython3",
   "version": "3.6.5"
  }
 },
 "nbformat": 4,
 "nbformat_minor": 2
}
